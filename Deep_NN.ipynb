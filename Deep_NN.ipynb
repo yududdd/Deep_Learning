{
 "cells": [
  {
   "cell_type": "markdown",
   "metadata": {},
   "source": [
    "## Deep Nerual Networks"
   ]
  },
  {
   "cell_type": "markdown",
   "metadata": {},
   "source": [
    "**README**: This derivation and go-through notes is made based on my own mathematical proof and may contain errors here or there. If you find one, don't hesitate to reach me out and point out where I have made mistakes.\n",
    "\n",
    "Email: yd1@andrew.cmu.edu\n",
    "\n",
    "This notebook will go through the math derivation of forward and backpropogation of the nerual network with <b>more than one hidden layer</b> (i.e. deep nerual networks)"
   ]
  },
  {
   "cell_type": "markdown",
   "metadata": {},
   "source": [
    "The nerual networks with more than one hidden layer is mathematically similar to the shallow nerual network case but"
   ]
  },
  {
   "cell_type": "code",
   "execution_count": null,
   "metadata": {},
   "outputs": [],
   "source": []
  }
 ],
 "metadata": {
  "kernelspec": {
   "display_name": "Python 3",
   "language": "python",
   "name": "python3"
  },
  "language_info": {
   "codemirror_mode": {
    "name": "ipython",
    "version": 3
   },
   "file_extension": ".py",
   "mimetype": "text/x-python",
   "name": "python",
   "nbconvert_exporter": "python",
   "pygments_lexer": "ipython3",
   "version": "3.6.9"
  }
 },
 "nbformat": 4,
 "nbformat_minor": 2
}
